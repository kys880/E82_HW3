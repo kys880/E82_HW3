{
  "nbformat": 4,
  "nbformat_minor": 0,
  "metadata": {
    "colab": {
      "provenance": [],
      "collapsed_sections": []
    },
    "kernelspec": {
      "name": "python3",
      "display_name": "Python 3"
    },
    "language_info": {
      "name": "python"
    }
  },
  "cells": [
    {
      "cell_type": "markdown",
      "source": [
        "# Homework 3\n",
        "Kyle Schluns & Michael Streyle\n",
        "\n",
        "## Notebook Setup"
      ],
      "metadata": {
        "id": "Qqv04mLE08en"
      }
    },
    {
      "cell_type": "code",
      "source": [
        "# Load useful libraries\n",
        "import numpy as np\n",
        "import pandas as pd\n",
        "\n",
        "from sklearn.decomposition import PCA\n",
        "from sklearn.decomposition import KernelPCA\n",
        "from sklearn.preprocessing import StandardScaler, OneHotEncoder\n",
        "from sklearn.feature_selection import SelectKBest\n",
        "\n",
        "import seaborn as sns\n",
        "import matplotlib.pyplot as plt"
      ],
      "metadata": {
        "id": "KRoHTkkJwR4I"
      },
      "execution_count": null,
      "outputs": []
    },
    {
      "cell_type": "code",
      "source": [
        "from google.colab import drive\n",
        "drive.mount('/content/drive')"
      ],
      "metadata": {
        "colab": {
          "base_uri": "https://localhost:8080/"
        },
        "id": "luyYsEJmvTuC",
        "outputId": "af0ce2e3-7fbc-4e1b-ce15-f48980c2aa52"
      },
      "execution_count": null,
      "outputs": [
        {
          "output_type": "stream",
          "name": "stdout",
          "text": [
            "Mounted at /content/drive\n"
          ]
        }
      ]
    },
    {
      "cell_type": "markdown",
      "source": [
        "Download data from Kaggle and unzip:"
      ],
      "metadata": {
        "id": "u6p9Jyls0xTA"
      }
    },
    {
      "cell_type": "code",
      "source": [
        "!cp \"/content/drive/MyDrive/Colab Notebooks/E82/kaggle.json\" \"/root/.kaggle/kaggle.json\"\n",
        "!kaggle competitions download -c csci-e-82-2022\n",
        "!unzip csci-e-82-2022.zip"
      ],
      "metadata": {
        "colab": {
          "base_uri": "https://localhost:8080/"
        },
        "id": "k6PDP7TIu4Xm",
        "outputId": "f232f329-007a-4cfd-d774-6eb6aca460c7"
      },
      "execution_count": null,
      "outputs": [
        {
          "output_type": "stream",
          "name": "stdout",
          "text": [
            "mkdir: cannot create directory ‘/root/.kaggle’: File exists\n",
            "Downloading csci-e-82-2022.zip to /content\n",
            " 86% 14.0M/16.3M [00:00<00:00, 39.1MB/s]\n",
            "100% 16.3M/16.3M [00:00<00:00, 39.6MB/s]\n",
            "Archive:  csci-e-82-2022.zip\n",
            "  inflating: sample_solution.csv     \n",
            "  inflating: test_data.csv           \n",
            "  inflating: train_data.csv          \n"
          ]
        }
      ]
    },
    {
      "cell_type": "markdown",
      "source": [
        "## Exploratory Data Analysis"
      ],
      "metadata": {
        "id": "JDc3UqdK1lt4"
      }
    },
    {
      "cell_type": "markdown",
      "source": [
        "Read in the data and display it."
      ],
      "metadata": {
        "id": "HWuhaezC1vep"
      }
    },
    {
      "cell_type": "code",
      "source": [
        "train = pd.read_csv(\"train_data.csv\")\n",
        "train.head()"
      ],
      "metadata": {
        "colab": {
          "base_uri": "https://localhost:8080/",
          "height": 236
        },
        "id": "c1WZEBLswXnZ",
        "outputId": "a208f2bd-cf38-4299-90cf-492d6156bd3e"
      },
      "execution_count": null,
      "outputs": [
        {
          "output_type": "execute_result",
          "data": {
            "text/plain": [
              "   x1  x2  x3  x4          x5        x6        x7          x8        x9  \\\n",
              "0   0   0   0   1 -323.106605  2.694366 -1.987520  261.092784  0.013704   \n",
              "1   0   0   0   1 -376.084691  0.969696 -6.933765  355.311648  0.030292   \n",
              "2   0   0   0   0   91.955425  2.621643 -2.581162   51.357206  0.036668   \n",
              "3   0   0   0   1 -391.814586  1.866914 -2.510799  382.900317  0.007947   \n",
              "4   0   0   0   0 -363.823732  2.951346 -3.726368  330.527539  0.010074   \n",
              "\n",
              "        x10  ...      z217      z218      z219       z220       z221  \\\n",
              "0  0.000100  ... -0.004930 -0.005554  5.246375  -7.534092   3.530736   \n",
              "1 -0.000153  ...  0.022757  0.052506 -3.727741  -2.854443  -0.699268   \n",
              "2 -0.000104  ... -0.086813 -0.101497 -7.510594  19.564182 -17.008130   \n",
              "3 -0.000028  ...  0.030856 -0.161398 -6.435819   2.174453  -0.153956   \n",
              "4 -0.000004  ... -0.017226 -0.016454 -2.581403   3.011932  -1.281361   \n",
              "\n",
              "       z222  subject  phase  state  output  \n",
              "0 -0.539045        K      3      C       1  \n",
              "1 -0.054074        A      4      C       1  \n",
              "2  4.945392        D      3      C       1  \n",
              "3 -0.003958        G      2      C       0  \n",
              "4  0.192647        C      2      C       1  \n",
              "\n",
              "[5 rows x 670 columns]"
            ],
            "text/html": [
              "\n",
              "  <div id=\"df-8becd280-c9de-4e3c-9e79-a928cd57ae79\">\n",
              "    <div class=\"colab-df-container\">\n",
              "      <div>\n",
              "<style scoped>\n",
              "    .dataframe tbody tr th:only-of-type {\n",
              "        vertical-align: middle;\n",
              "    }\n",
              "\n",
              "    .dataframe tbody tr th {\n",
              "        vertical-align: top;\n",
              "    }\n",
              "\n",
              "    .dataframe thead th {\n",
              "        text-align: right;\n",
              "    }\n",
              "</style>\n",
              "<table border=\"1\" class=\"dataframe\">\n",
              "  <thead>\n",
              "    <tr style=\"text-align: right;\">\n",
              "      <th></th>\n",
              "      <th>x1</th>\n",
              "      <th>x2</th>\n",
              "      <th>x3</th>\n",
              "      <th>x4</th>\n",
              "      <th>x5</th>\n",
              "      <th>x6</th>\n",
              "      <th>x7</th>\n",
              "      <th>x8</th>\n",
              "      <th>x9</th>\n",
              "      <th>x10</th>\n",
              "      <th>...</th>\n",
              "      <th>z217</th>\n",
              "      <th>z218</th>\n",
              "      <th>z219</th>\n",
              "      <th>z220</th>\n",
              "      <th>z221</th>\n",
              "      <th>z222</th>\n",
              "      <th>subject</th>\n",
              "      <th>phase</th>\n",
              "      <th>state</th>\n",
              "      <th>output</th>\n",
              "    </tr>\n",
              "  </thead>\n",
              "  <tbody>\n",
              "    <tr>\n",
              "      <th>0</th>\n",
              "      <td>0</td>\n",
              "      <td>0</td>\n",
              "      <td>0</td>\n",
              "      <td>1</td>\n",
              "      <td>-323.106605</td>\n",
              "      <td>2.694366</td>\n",
              "      <td>-1.987520</td>\n",
              "      <td>261.092784</td>\n",
              "      <td>0.013704</td>\n",
              "      <td>0.000100</td>\n",
              "      <td>...</td>\n",
              "      <td>-0.004930</td>\n",
              "      <td>-0.005554</td>\n",
              "      <td>5.246375</td>\n",
              "      <td>-7.534092</td>\n",
              "      <td>3.530736</td>\n",
              "      <td>-0.539045</td>\n",
              "      <td>K</td>\n",
              "      <td>3</td>\n",
              "      <td>C</td>\n",
              "      <td>1</td>\n",
              "    </tr>\n",
              "    <tr>\n",
              "      <th>1</th>\n",
              "      <td>0</td>\n",
              "      <td>0</td>\n",
              "      <td>0</td>\n",
              "      <td>1</td>\n",
              "      <td>-376.084691</td>\n",
              "      <td>0.969696</td>\n",
              "      <td>-6.933765</td>\n",
              "      <td>355.311648</td>\n",
              "      <td>0.030292</td>\n",
              "      <td>-0.000153</td>\n",
              "      <td>...</td>\n",
              "      <td>0.022757</td>\n",
              "      <td>0.052506</td>\n",
              "      <td>-3.727741</td>\n",
              "      <td>-2.854443</td>\n",
              "      <td>-0.699268</td>\n",
              "      <td>-0.054074</td>\n",
              "      <td>A</td>\n",
              "      <td>4</td>\n",
              "      <td>C</td>\n",
              "      <td>1</td>\n",
              "    </tr>\n",
              "    <tr>\n",
              "      <th>2</th>\n",
              "      <td>0</td>\n",
              "      <td>0</td>\n",
              "      <td>0</td>\n",
              "      <td>0</td>\n",
              "      <td>91.955425</td>\n",
              "      <td>2.621643</td>\n",
              "      <td>-2.581162</td>\n",
              "      <td>51.357206</td>\n",
              "      <td>0.036668</td>\n",
              "      <td>-0.000104</td>\n",
              "      <td>...</td>\n",
              "      <td>-0.086813</td>\n",
              "      <td>-0.101497</td>\n",
              "      <td>-7.510594</td>\n",
              "      <td>19.564182</td>\n",
              "      <td>-17.008130</td>\n",
              "      <td>4.945392</td>\n",
              "      <td>D</td>\n",
              "      <td>3</td>\n",
              "      <td>C</td>\n",
              "      <td>1</td>\n",
              "    </tr>\n",
              "    <tr>\n",
              "      <th>3</th>\n",
              "      <td>0</td>\n",
              "      <td>0</td>\n",
              "      <td>0</td>\n",
              "      <td>1</td>\n",
              "      <td>-391.814586</td>\n",
              "      <td>1.866914</td>\n",
              "      <td>-2.510799</td>\n",
              "      <td>382.900317</td>\n",
              "      <td>0.007947</td>\n",
              "      <td>-0.000028</td>\n",
              "      <td>...</td>\n",
              "      <td>0.030856</td>\n",
              "      <td>-0.161398</td>\n",
              "      <td>-6.435819</td>\n",
              "      <td>2.174453</td>\n",
              "      <td>-0.153956</td>\n",
              "      <td>-0.003958</td>\n",
              "      <td>G</td>\n",
              "      <td>2</td>\n",
              "      <td>C</td>\n",
              "      <td>0</td>\n",
              "    </tr>\n",
              "    <tr>\n",
              "      <th>4</th>\n",
              "      <td>0</td>\n",
              "      <td>0</td>\n",
              "      <td>0</td>\n",
              "      <td>0</td>\n",
              "      <td>-363.823732</td>\n",
              "      <td>2.951346</td>\n",
              "      <td>-3.726368</td>\n",
              "      <td>330.527539</td>\n",
              "      <td>0.010074</td>\n",
              "      <td>-0.000004</td>\n",
              "      <td>...</td>\n",
              "      <td>-0.017226</td>\n",
              "      <td>-0.016454</td>\n",
              "      <td>-2.581403</td>\n",
              "      <td>3.011932</td>\n",
              "      <td>-1.281361</td>\n",
              "      <td>0.192647</td>\n",
              "      <td>C</td>\n",
              "      <td>2</td>\n",
              "      <td>C</td>\n",
              "      <td>1</td>\n",
              "    </tr>\n",
              "  </tbody>\n",
              "</table>\n",
              "<p>5 rows × 670 columns</p>\n",
              "</div>\n",
              "      <button class=\"colab-df-convert\" onclick=\"convertToInteractive('df-8becd280-c9de-4e3c-9e79-a928cd57ae79')\"\n",
              "              title=\"Convert this dataframe to an interactive table.\"\n",
              "              style=\"display:none;\">\n",
              "        \n",
              "  <svg xmlns=\"http://www.w3.org/2000/svg\" height=\"24px\"viewBox=\"0 0 24 24\"\n",
              "       width=\"24px\">\n",
              "    <path d=\"M0 0h24v24H0V0z\" fill=\"none\"/>\n",
              "    <path d=\"M18.56 5.44l.94 2.06.94-2.06 2.06-.94-2.06-.94-.94-2.06-.94 2.06-2.06.94zm-11 1L8.5 8.5l.94-2.06 2.06-.94-2.06-.94L8.5 2.5l-.94 2.06-2.06.94zm10 10l.94 2.06.94-2.06 2.06-.94-2.06-.94-.94-2.06-.94 2.06-2.06.94z\"/><path d=\"M17.41 7.96l-1.37-1.37c-.4-.4-.92-.59-1.43-.59-.52 0-1.04.2-1.43.59L10.3 9.45l-7.72 7.72c-.78.78-.78 2.05 0 2.83L4 21.41c.39.39.9.59 1.41.59.51 0 1.02-.2 1.41-.59l7.78-7.78 2.81-2.81c.8-.78.8-2.07 0-2.86zM5.41 20L4 18.59l7.72-7.72 1.47 1.35L5.41 20z\"/>\n",
              "  </svg>\n",
              "      </button>\n",
              "      \n",
              "  <style>\n",
              "    .colab-df-container {\n",
              "      display:flex;\n",
              "      flex-wrap:wrap;\n",
              "      gap: 12px;\n",
              "    }\n",
              "\n",
              "    .colab-df-convert {\n",
              "      background-color: #E8F0FE;\n",
              "      border: none;\n",
              "      border-radius: 50%;\n",
              "      cursor: pointer;\n",
              "      display: none;\n",
              "      fill: #1967D2;\n",
              "      height: 32px;\n",
              "      padding: 0 0 0 0;\n",
              "      width: 32px;\n",
              "    }\n",
              "\n",
              "    .colab-df-convert:hover {\n",
              "      background-color: #E2EBFA;\n",
              "      box-shadow: 0px 1px 2px rgba(60, 64, 67, 0.3), 0px 1px 3px 1px rgba(60, 64, 67, 0.15);\n",
              "      fill: #174EA6;\n",
              "    }\n",
              "\n",
              "    [theme=dark] .colab-df-convert {\n",
              "      background-color: #3B4455;\n",
              "      fill: #D2E3FC;\n",
              "    }\n",
              "\n",
              "    [theme=dark] .colab-df-convert:hover {\n",
              "      background-color: #434B5C;\n",
              "      box-shadow: 0px 1px 3px 1px rgba(0, 0, 0, 0.15);\n",
              "      filter: drop-shadow(0px 1px 2px rgba(0, 0, 0, 0.3));\n",
              "      fill: #FFFFFF;\n",
              "    }\n",
              "  </style>\n",
              "\n",
              "      <script>\n",
              "        const buttonEl =\n",
              "          document.querySelector('#df-8becd280-c9de-4e3c-9e79-a928cd57ae79 button.colab-df-convert');\n",
              "        buttonEl.style.display =\n",
              "          google.colab.kernel.accessAllowed ? 'block' : 'none';\n",
              "\n",
              "        async function convertToInteractive(key) {\n",
              "          const element = document.querySelector('#df-8becd280-c9de-4e3c-9e79-a928cd57ae79');\n",
              "          const dataTable =\n",
              "            await google.colab.kernel.invokeFunction('convertToInteractive',\n",
              "                                                     [key], {});\n",
              "          if (!dataTable) return;\n",
              "\n",
              "          const docLinkHtml = 'Like what you see? Visit the ' +\n",
              "            '<a target=\"_blank\" href=https://colab.research.google.com/notebooks/data_table.ipynb>data table notebook</a>'\n",
              "            + ' to learn more about interactive tables.';\n",
              "          element.innerHTML = '';\n",
              "          dataTable['output_type'] = 'display_data';\n",
              "          await google.colab.output.renderOutput(dataTable, element);\n",
              "          const docLink = document.createElement('div');\n",
              "          docLink.innerHTML = docLinkHtml;\n",
              "          element.appendChild(docLink);\n",
              "        }\n",
              "      </script>\n",
              "    </div>\n",
              "  </div>\n",
              "  "
            ]
          },
          "metadata": {},
          "execution_count": 5
        }
      ]
    },
    {
      "cell_type": "markdown",
      "source": [
        "Count the number of variables with any missing data. The fact that the table is empty means that there is no missing data in the train data."
      ],
      "metadata": {
        "id": "8u9d_OR51zPI"
      }
    },
    {
      "cell_type": "code",
      "source": [
        "train.isna().sum(axis=0).reset_index().rename(columns={'index':'var',0:'cnt'}).query('cnt > 0')"
      ],
      "metadata": {
        "colab": {
          "base_uri": "https://localhost:8080/",
          "height": 49
        },
        "id": "kGcdQno3yE5I",
        "outputId": "c50bc7ce-15df-4a39-9e6b-e5bb45357e2d"
      },
      "execution_count": null,
      "outputs": [
        {
          "output_type": "execute_result",
          "data": {
            "text/plain": [
              "Empty DataFrame\n",
              "Columns: [var, cnt]\n",
              "Index: []"
            ],
            "text/html": [
              "\n",
              "  <div id=\"df-314ea746-c859-4465-8b16-dbda864119a7\">\n",
              "    <div class=\"colab-df-container\">\n",
              "      <div>\n",
              "<style scoped>\n",
              "    .dataframe tbody tr th:only-of-type {\n",
              "        vertical-align: middle;\n",
              "    }\n",
              "\n",
              "    .dataframe tbody tr th {\n",
              "        vertical-align: top;\n",
              "    }\n",
              "\n",
              "    .dataframe thead th {\n",
              "        text-align: right;\n",
              "    }\n",
              "</style>\n",
              "<table border=\"1\" class=\"dataframe\">\n",
              "  <thead>\n",
              "    <tr style=\"text-align: right;\">\n",
              "      <th></th>\n",
              "      <th>var</th>\n",
              "      <th>cnt</th>\n",
              "    </tr>\n",
              "  </thead>\n",
              "  <tbody>\n",
              "  </tbody>\n",
              "</table>\n",
              "</div>\n",
              "      <button class=\"colab-df-convert\" onclick=\"convertToInteractive('df-314ea746-c859-4465-8b16-dbda864119a7')\"\n",
              "              title=\"Convert this dataframe to an interactive table.\"\n",
              "              style=\"display:none;\">\n",
              "        \n",
              "  <svg xmlns=\"http://www.w3.org/2000/svg\" height=\"24px\"viewBox=\"0 0 24 24\"\n",
              "       width=\"24px\">\n",
              "    <path d=\"M0 0h24v24H0V0z\" fill=\"none\"/>\n",
              "    <path d=\"M18.56 5.44l.94 2.06.94-2.06 2.06-.94-2.06-.94-.94-2.06-.94 2.06-2.06.94zm-11 1L8.5 8.5l.94-2.06 2.06-.94-2.06-.94L8.5 2.5l-.94 2.06-2.06.94zm10 10l.94 2.06.94-2.06 2.06-.94-2.06-.94-.94-2.06-.94 2.06-2.06.94z\"/><path d=\"M17.41 7.96l-1.37-1.37c-.4-.4-.92-.59-1.43-.59-.52 0-1.04.2-1.43.59L10.3 9.45l-7.72 7.72c-.78.78-.78 2.05 0 2.83L4 21.41c.39.39.9.59 1.41.59.51 0 1.02-.2 1.41-.59l7.78-7.78 2.81-2.81c.8-.78.8-2.07 0-2.86zM5.41 20L4 18.59l7.72-7.72 1.47 1.35L5.41 20z\"/>\n",
              "  </svg>\n",
              "      </button>\n",
              "      \n",
              "  <style>\n",
              "    .colab-df-container {\n",
              "      display:flex;\n",
              "      flex-wrap:wrap;\n",
              "      gap: 12px;\n",
              "    }\n",
              "\n",
              "    .colab-df-convert {\n",
              "      background-color: #E8F0FE;\n",
              "      border: none;\n",
              "      border-radius: 50%;\n",
              "      cursor: pointer;\n",
              "      display: none;\n",
              "      fill: #1967D2;\n",
              "      height: 32px;\n",
              "      padding: 0 0 0 0;\n",
              "      width: 32px;\n",
              "    }\n",
              "\n",
              "    .colab-df-convert:hover {\n",
              "      background-color: #E2EBFA;\n",
              "      box-shadow: 0px 1px 2px rgba(60, 64, 67, 0.3), 0px 1px 3px 1px rgba(60, 64, 67, 0.15);\n",
              "      fill: #174EA6;\n",
              "    }\n",
              "\n",
              "    [theme=dark] .colab-df-convert {\n",
              "      background-color: #3B4455;\n",
              "      fill: #D2E3FC;\n",
              "    }\n",
              "\n",
              "    [theme=dark] .colab-df-convert:hover {\n",
              "      background-color: #434B5C;\n",
              "      box-shadow: 0px 1px 3px 1px rgba(0, 0, 0, 0.15);\n",
              "      filter: drop-shadow(0px 1px 2px rgba(0, 0, 0, 0.3));\n",
              "      fill: #FFFFFF;\n",
              "    }\n",
              "  </style>\n",
              "\n",
              "      <script>\n",
              "        const buttonEl =\n",
              "          document.querySelector('#df-314ea746-c859-4465-8b16-dbda864119a7 button.colab-df-convert');\n",
              "        buttonEl.style.display =\n",
              "          google.colab.kernel.accessAllowed ? 'block' : 'none';\n",
              "\n",
              "        async function convertToInteractive(key) {\n",
              "          const element = document.querySelector('#df-314ea746-c859-4465-8b16-dbda864119a7');\n",
              "          const dataTable =\n",
              "            await google.colab.kernel.invokeFunction('convertToInteractive',\n",
              "                                                     [key], {});\n",
              "          if (!dataTable) return;\n",
              "\n",
              "          const docLinkHtml = 'Like what you see? Visit the ' +\n",
              "            '<a target=\"_blank\" href=https://colab.research.google.com/notebooks/data_table.ipynb>data table notebook</a>'\n",
              "            + ' to learn more about interactive tables.';\n",
              "          element.innerHTML = '';\n",
              "          dataTable['output_type'] = 'display_data';\n",
              "          await google.colab.output.renderOutput(dataTable, element);\n",
              "          const docLink = document.createElement('div');\n",
              "          docLink.innerHTML = docLinkHtml;\n",
              "          element.appendChild(docLink);\n",
              "        }\n",
              "      </script>\n",
              "    </div>\n",
              "  </div>\n",
              "  "
            ]
          },
          "metadata": {},
          "execution_count": 7
        }
      ]
    },
    {
      "cell_type": "markdown",
      "source": [
        "The code below shows that there is data imbalance in the target variable `output`, such that 84.5% of the data are class `1` and the other 15.5% are class `0`. "
      ],
      "metadata": {
        "id": "ZFmJcP8R2IGe"
      }
    },
    {
      "cell_type": "code",
      "source": [
        "train['output'].value_counts()"
      ],
      "metadata": {
        "colab": {
          "base_uri": "https://localhost:8080/"
        },
        "id": "B9_3Dc651XVU",
        "outputId": "bb4ac0e8-532b-43b0-a0ce-cf77a2c6e7e1"
      },
      "execution_count": null,
      "outputs": [
        {
          "output_type": "execute_result",
          "data": {
            "text/plain": [
              "1    3873\n",
              "0     711\n",
              "Name: output, dtype: int64"
            ]
          },
          "metadata": {},
          "execution_count": 9
        }
      ]
    },
    {
      "cell_type": "code",
      "source": [
        "train['output'].value_counts()/train['output'].count()"
      ],
      "metadata": {
        "colab": {
          "base_uri": "https://localhost:8080/"
        },
        "id": "FYPb7HdJ_xKq",
        "outputId": "e8bff718-18b3-451d-cccd-254f91d9258d"
      },
      "execution_count": null,
      "outputs": [
        {
          "output_type": "execute_result",
          "data": {
            "text/plain": [
              "1    0.844895\n",
              "0    0.155105\n",
              "Name: output, dtype: float64"
            ]
          },
          "metadata": {},
          "execution_count": 47
        }
      ]
    },
    {
      "cell_type": "markdown",
      "source": [
        "For the categorical data, print group-level counts to check for data sparsity and group-level mean of `output` (which conveys how predictive a particular group might be). \n",
        "\n",
        "We find that there is only one sparse feature, which occurs for the `state` feature for group \"E\" since it only has 2 occurrences in the data.\n",
        "\n",
        "Since the data is imbalanced where 84.5% of observations are class `1`, any mean `output` value that is statistically different from 84.5% will be a predictive feature. We can see that there are significant predictive power in the `subject` feature, and some minor predictive power in the other two features."
      ],
      "metadata": {
        "id": "tzDJ2mWi2Tn5"
      }
    },
    {
      "cell_type": "code",
      "source": [
        "cat_cols = ['subject','phase','state']\n",
        "for col in cat_cols:\n",
        "  print(train.groupby(col)['output'].agg(['count','mean']),'\\n')"
      ],
      "metadata": {
        "colab": {
          "base_uri": "https://localhost:8080/"
        },
        "id": "mAkGwR_fyZDT",
        "outputId": "c33b257f-22b6-41ad-c701-a5b73c6e8ba4"
      },
      "execution_count": null,
      "outputs": [
        {
          "output_type": "stream",
          "name": "stdout",
          "text": [
            "         count      mean\n",
            "subject                 \n",
            "A          380  0.971053\n",
            "B          513  0.859649\n",
            "C          361  0.756233\n",
            "D          420  0.938095\n",
            "F          330  0.778788\n",
            "G          518  0.492278\n",
            "H          181  0.861878\n",
            "I          663  0.962293\n",
            "K          468  1.000000\n",
            "L          444  0.912162\n",
            "M          306  0.709150 \n",
            "\n",
            "       count      mean\n",
            "phase                 \n",
            "1       1215  0.827160\n",
            "2       1063  0.797742\n",
            "3       1015  0.871921\n",
            "4       1291  0.879163 \n",
            "\n",
            "       count      mean\n",
            "state                 \n",
            "A        398  0.864322\n",
            "B       1502  0.859521\n",
            "C       2106  0.845204\n",
            "D        576  0.791667\n",
            "E          2  1.000000 \n",
            "\n"
          ]
        }
      ]
    },
    {
      "cell_type": "markdown",
      "source": [
        "Let's split up the numeric columns (`train_num`), the categorical columns (`train_cat`), and the target variable (`train_y`)."
      ],
      "metadata": {
        "id": "OVsCLFKK5bwX"
      }
    },
    {
      "cell_type": "code",
      "source": [
        "train_num = train.iloc[:,:-4]\n",
        "train_cat = train.iloc[:,-4:-1]\n",
        "train_y = train['output']"
      ],
      "metadata": {
        "id": "JjbwlP--yyKJ"
      },
      "execution_count": null,
      "outputs": []
    },
    {
      "cell_type": "markdown",
      "source": [
        "Now let's apply standard scaling to the numeric data and run PCA. We find the following conclusions:\n",
        "- The first 20 components convey about 65% of the variance\n",
        "- The first 100 components convey about 90% of the variance\n",
        "- The first 200 components convey about 99% of the variance\n",
        "\n",
        "This means we probably want to use somewhere between 100-200 PCA components for feature selection into a potential model. "
      ],
      "metadata": {
        "id": "s3nCpaPJ5nLH"
      }
    },
    {
      "cell_type": "code",
      "source": [
        "scaler = StandardScaler()\n",
        "train_num_scaled = scaler.fit_transform(train_num)\n",
        "\n",
        "pca_n_components = 200\n",
        "pca = PCA(n_components=pca_n_components)\n",
        "train_num_pca = pd.DataFrame(pca.fit_transform(train_num_scaled),columns=[f\"pca{i+1}\" for i in range(pca_n_components)])\n",
        "\n",
        "pca_explained_var = pd.Series(pca.explained_variance_ratio_.cumsum()).reset_index()\n",
        "pca_explained_var.columns = ['n_components','cum_explained_var']\n",
        "\n",
        "fig = plt.figure(figsize=(12,7))\n",
        "sns.lineplot(data=pca_explained_var,x='n_components',y='cum_explained_var')\n",
        "plt.ylim([0,1])\n",
        "plt.xlabel(\"# PCA Components\")\n",
        "plt.ylabel(\"Cumulative % Explained Variance\")\n",
        "plt.title(\"PCA Explained Variance Plot\")\n",
        "plt.show()"
      ],
      "metadata": {
        "colab": {
          "base_uri": "https://localhost:8080/",
          "height": 458
        },
        "id": "U8Bm89LuzTPb",
        "outputId": "a4cc44e3-dde6-499e-8815-29c382cb63ea"
      },
      "execution_count": null,
      "outputs": [
        {
          "output_type": "display_data",
          "data": {
            "text/plain": [
              "<Figure size 864x504 with 1 Axes>"
            ],
            "image/png": "[encoded data removed]"
          },
          "metadata": {
            "needs_background": "light"
          }
        }
      ]
    },
    {
      "cell_type": "markdown",
      "source": [
        "Now let's one-hot encode the categorical data and concatenate it with the 200 PCA numeric columns."
      ],
      "metadata": {
        "id": "trU5sENb7vno"
      }
    },
    {
      "cell_type": "code",
      "source": [
        "ohe = OneHotEncoder(drop=\"first\")\n",
        "train_cat_ohe = ohe.fit_transform(train_cat)\n",
        "train_cat_ohe = pd.DataFrame(train_cat_ohe.toarray(),columns=ohe.get_feature_names_out())\n",
        "\n",
        "train_concat = pd.concat([train_num_pca,train_cat_ohe],axis=1)\n",
        "train_concat.head()"
      ],
      "metadata": {
        "colab": {
          "base_uri": "https://localhost:8080/",
          "height": 236
        },
        "id": "HyQ134dH9lwC",
        "outputId": "39db168c-37a6-407f-e203-cd9d0905c86c"
      },
      "execution_count": null,
      "outputs": [
        {
          "output_type": "execute_result",
          "data": {
            "text/plain": [
              "       pca1      pca2       pca3      pca4       pca5      pca6      pca7  \\\n",
              "0 -3.032506 -3.062813  -4.572669 -0.838078   6.389029 -1.079410  1.049353   \n",
              "1  7.997720 -1.687093   1.703193 -0.580068  -3.193906 -2.280631  1.573460   \n",
              "2 -9.404525  1.695259  12.249572  9.263603  14.538742 -1.382768  3.265562   \n",
              "3 -0.744583 -5.902031  -2.364589 -6.932070   1.438645  1.851355  3.181267   \n",
              "4  0.051905 -1.039067  -7.116174 -2.271226   7.030159 -0.690243  0.506123   \n",
              "\n",
              "       pca8      pca9     pca10  ...  subject_K  subject_L  subject_M  \\\n",
              "0  0.846976 -2.456823 -1.736300  ...        1.0        0.0        0.0   \n",
              "1 -2.514034 -0.728222  1.666008  ...        0.0        0.0        0.0   \n",
              "2  0.838067 -1.688740 -0.896983  ...        0.0        0.0        0.0   \n",
              "3 -7.113462 -0.721635  0.458521  ...        0.0        0.0        0.0   \n",
              "4 -1.972264 -2.367035 -1.824257  ...        0.0        0.0        0.0   \n",
              "\n",
              "   phase_2  phase_3  phase_4  state_B  state_C  state_D  state_E  \n",
              "0      0.0      1.0      0.0      0.0      1.0      0.0      0.0  \n",
              "1      0.0      0.0      1.0      0.0      1.0      0.0      0.0  \n",
              "2      0.0      1.0      0.0      0.0      1.0      0.0      0.0  \n",
              "3      1.0      0.0      0.0      0.0      1.0      0.0      0.0  \n",
              "4      1.0      0.0      0.0      0.0      1.0      0.0      0.0  \n",
              "\n",
              "[5 rows x 217 columns]"
            ],
            "text/html": [
              "\n",
              "  <div id=\"df-82c18527-2357-4951-a9ad-bd12b7278697\">\n",
              "    <div class=\"colab-df-container\">\n",
              "      <div>\n",
              "<style scoped>\n",
              "    .dataframe tbody tr th:only-of-type {\n",
              "        vertical-align: middle;\n",
              "    }\n",
              "\n",
              "    .dataframe tbody tr th {\n",
              "        vertical-align: top;\n",
              "    }\n",
              "\n",
              "    .dataframe thead th {\n",
              "        text-align: right;\n",
              "    }\n",
              "</style>\n",
              "<table border=\"1\" class=\"dataframe\">\n",
              "  <thead>\n",
              "    <tr style=\"text-align: right;\">\n",
              "      <th></th>\n",
              "      <th>pca1</th>\n",
              "      <th>pca2</th>\n",
              "      <th>pca3</th>\n",
              "      <th>pca4</th>\n",
              "      <th>pca5</th>\n",
              "      <th>pca6</th>\n",
              "      <th>pca7</th>\n",
              "      <th>pca8</th>\n",
              "      <th>pca9</th>\n",
              "      <th>pca10</th>\n",
              "      <th>...</th>\n",
              "      <th>subject_K</th>\n",
              "      <th>subject_L</th>\n",
              "      <th>subject_M</th>\n",
              "      <th>phase_2</th>\n",
              "      <th>phase_3</th>\n",
              "      <th>phase_4</th>\n",
              "      <th>state_B</th>\n",
              "      <th>state_C</th>\n",
              "      <th>state_D</th>\n",
              "      <th>state_E</th>\n",
              "    </tr>\n",
              "  </thead>\n",
              "  <tbody>\n",
              "    <tr>\n",
              "      <th>0</th>\n",
              "      <td>-3.032506</td>\n",
              "      <td>-3.062813</td>\n",
              "      <td>-4.572669</td>\n",
              "      <td>-0.838078</td>\n",
              "      <td>6.389029</td>\n",
              "      <td>-1.079410</td>\n",
              "      <td>1.049353</td>\n",
              "      <td>0.846976</td>\n",
              "      <td>-2.456823</td>\n",
              "      <td>-1.736300</td>\n",
              "      <td>...</td>\n",
              "      <td>1.0</td>\n",
              "      <td>0.0</td>\n",
              "      <td>0.0</td>\n",
              "      <td>0.0</td>\n",
              "      <td>1.0</td>\n",
              "      <td>0.0</td>\n",
              "      <td>0.0</td>\n",
              "      <td>1.0</td>\n",
              "      <td>0.0</td>\n",
              "      <td>0.0</td>\n",
              "    </tr>\n",
              "    <tr>\n",
              "      <th>1</th>\n",
              "      <td>7.997720</td>\n",
              "      <td>-1.687093</td>\n",
              "      <td>1.703193</td>\n",
              "      <td>-0.580068</td>\n",
              "      <td>-3.193906</td>\n",
              "      <td>-2.280631</td>\n",
              "      <td>1.573460</td>\n",
              "      <td>-2.514034</td>\n",
              "      <td>-0.728222</td>\n",
              "      <td>1.666008</td>\n",
              "      <td>...</td>\n",
              "      <td>0.0</td>\n",
              "      <td>0.0</td>\n",
              "      <td>0.0</td>\n",
              "      <td>0.0</td>\n",
              "      <td>0.0</td>\n",
              "      <td>1.0</td>\n",
              "      <td>0.0</td>\n",
              "      <td>1.0</td>\n",
              "      <td>0.0</td>\n",
              "      <td>0.0</td>\n",
              "    </tr>\n",
              "    <tr>\n",
              "      <th>2</th>\n",
              "      <td>-9.404525</td>\n",
              "      <td>1.695259</td>\n",
              "      <td>12.249572</td>\n",
              "      <td>9.263603</td>\n",
              "      <td>14.538742</td>\n",
              "      <td>-1.382768</td>\n",
              "      <td>3.265562</td>\n",
              "      <td>0.838067</td>\n",
              "      <td>-1.688740</td>\n",
              "      <td>-0.896983</td>\n",
              "      <td>...</td>\n",
              "      <td>0.0</td>\n",
              "      <td>0.0</td>\n",
              "      <td>0.0</td>\n",
              "      <td>0.0</td>\n",
              "      <td>1.0</td>\n",
              "      <td>0.0</td>\n",
              "      <td>0.0</td>\n",
              "      <td>1.0</td>\n",
              "      <td>0.0</td>\n",
              "      <td>0.0</td>\n",
              "    </tr>\n",
              "    <tr>\n",
              "      <th>3</th>\n",
              "      <td>-0.744583</td>\n",
              "      <td>-5.902031</td>\n",
              "      <td>-2.364589</td>\n",
              "      <td>-6.932070</td>\n",
              "      <td>1.438645</td>\n",
              "      <td>1.851355</td>\n",
              "      <td>3.181267</td>\n",
              "      <td>-7.113462</td>\n",
              "      <td>-0.721635</td>\n",
              "      <td>0.458521</td>\n",
              "      <td>...</td>\n",
              "      <td>0.0</td>\n",
              "      <td>0.0</td>\n",
              "      <td>0.0</td>\n",
              "      <td>1.0</td>\n",
              "      <td>0.0</td>\n",
              "      <td>0.0</td>\n",
              "      <td>0.0</td>\n",
              "      <td>1.0</td>\n",
              "      <td>0.0</td>\n",
              "      <td>0.0</td>\n",
              "    </tr>\n",
              "    <tr>\n",
              "      <th>4</th>\n",
              "      <td>0.051905</td>\n",
              "      <td>-1.039067</td>\n",
              "      <td>-7.116174</td>\n",
              "      <td>-2.271226</td>\n",
              "      <td>7.030159</td>\n",
              "      <td>-0.690243</td>\n",
              "      <td>0.506123</td>\n",
              "      <td>-1.972264</td>\n",
              "      <td>-2.367035</td>\n",
              "      <td>-1.824257</td>\n",
              "      <td>...</td>\n",
              "      <td>0.0</td>\n",
              "      <td>0.0</td>\n",
              "      <td>0.0</td>\n",
              "      <td>1.0</td>\n",
              "      <td>0.0</td>\n",
              "      <td>0.0</td>\n",
              "      <td>0.0</td>\n",
              "      <td>1.0</td>\n",
              "      <td>0.0</td>\n",
              "      <td>0.0</td>\n",
              "    </tr>\n",
              "  </tbody>\n",
              "</table>\n",
              "<p>5 rows × 217 columns</p>\n",
              "</div>\n",
              "      <button class=\"colab-df-convert\" onclick=\"convertToInteractive('df-82c18527-2357-4951-a9ad-bd12b7278697')\"\n",
              "              title=\"Convert this dataframe to an interactive table.\"\n",
              "              style=\"display:none;\">\n",
              "        \n",
              "  <svg xmlns=\"http://www.w3.org/2000/svg\" height=\"24px\"viewBox=\"0 0 24 24\"\n",
              "       width=\"24px\">\n",
              "    <path d=\"M0 0h24v24H0V0z\" fill=\"none\"/>\n",
              "    <path d=\"M18.56 5.44l.94 2.06.94-2.06 2.06-.94-2.06-.94-.94-2.06-.94 2.06-2.06.94zm-11 1L8.5 8.5l.94-2.06 2.06-.94-2.06-.94L8.5 2.5l-.94 2.06-2.06.94zm10 10l.94 2.06.94-2.06 2.06-.94-2.06-.94-.94-2.06-.94 2.06-2.06.94z\"/><path d=\"M17.41 7.96l-1.37-1.37c-.4-.4-.92-.59-1.43-.59-.52 0-1.04.2-1.43.59L10.3 9.45l-7.72 7.72c-.78.78-.78 2.05 0 2.83L4 21.41c.39.39.9.59 1.41.59.51 0 1.02-.2 1.41-.59l7.78-7.78 2.81-2.81c.8-.78.8-2.07 0-2.86zM5.41 20L4 18.59l7.72-7.72 1.47 1.35L5.41 20z\"/>\n",
              "  </svg>\n",
              "      </button>\n",
              "      \n",
              "  <style>\n",
              "    .colab-df-container {\n",
              "      display:flex;\n",
              "      flex-wrap:wrap;\n",
              "      gap: 12px;\n",
              "    }\n",
              "\n",
              "    .colab-df-convert {\n",
              "      background-color: #E8F0FE;\n",
              "      border: none;\n",
              "      border-radius: 50%;\n",
              "      cursor: pointer;\n",
              "      display: none;\n",
              "      fill: #1967D2;\n",
              "      height: 32px;\n",
              "      padding: 0 0 0 0;\n",
              "      width: 32px;\n",
              "    }\n",
              "\n",
              "    .colab-df-convert:hover {\n",
              "      background-color: #E2EBFA;\n",
              "      box-shadow: 0px 1px 2px rgba(60, 64, 67, 0.3), 0px 1px 3px 1px rgba(60, 64, 67, 0.15);\n",
              "      fill: #174EA6;\n",
              "    }\n",
              "\n",
              "    [theme=dark] .colab-df-convert {\n",
              "      background-color: #3B4455;\n",
              "      fill: #D2E3FC;\n",
              "    }\n",
              "\n",
              "    [theme=dark] .colab-df-convert:hover {\n",
              "      background-color: #434B5C;\n",
              "      box-shadow: 0px 1px 3px 1px rgba(0, 0, 0, 0.15);\n",
              "      filter: drop-shadow(0px 1px 2px rgba(0, 0, 0, 0.3));\n",
              "      fill: #FFFFFF;\n",
              "    }\n",
              "  </style>\n",
              "\n",
              "      <script>\n",
              "        const buttonEl =\n",
              "          document.querySelector('#df-82c18527-2357-4951-a9ad-bd12b7278697 button.colab-df-convert');\n",
              "        buttonEl.style.display =\n",
              "          google.colab.kernel.accessAllowed ? 'block' : 'none';\n",
              "\n",
              "        async function convertToInteractive(key) {\n",
              "          const element = document.querySelector('#df-82c18527-2357-4951-a9ad-bd12b7278697');\n",
              "          const dataTable =\n",
              "            await google.colab.kernel.invokeFunction('convertToInteractive',\n",
              "                                                     [key], {});\n",
              "          if (!dataTable) return;\n",
              "\n",
              "          const docLinkHtml = 'Like what you see? Visit the ' +\n",
              "            '<a target=\"_blank\" href=https://colab.research.google.com/notebooks/data_table.ipynb>data table notebook</a>'\n",
              "            + ' to learn more about interactive tables.';\n",
              "          element.innerHTML = '';\n",
              "          dataTable['output_type'] = 'display_data';\n",
              "          await google.colab.output.renderOutput(dataTable, element);\n",
              "          const docLink = document.createElement('div');\n",
              "          docLink.innerHTML = docLinkHtml;\n",
              "          element.appendChild(docLink);\n",
              "        }\n",
              "      </script>\n",
              "    </div>\n",
              "  </div>\n",
              "  "
            ]
          },
          "metadata": {},
          "execution_count": 21
        }
      ]
    },
    {
      "cell_type": "markdown",
      "source": [
        "Let's use the SelectKBest on all the columns and then apply a conservative threshold to only keep those with p-value < 0.10. This results in selecting 69 columns. Below we display the top 10 of both the most predictive features and the least predictive features. Based on the earlier EDA, it's no surprise that the categorical features are most important."
      ],
      "metadata": {
        "id": "lSB-4j3X77D6"
      }
    },
    {
      "cell_type": "code",
      "source": [
        "f_selector = SelectKBest(k=\"all\")\n",
        "train_concat_selected = f_selector.fit_transform(train_concat,train_y)\n",
        "\n",
        "best_k = (f_selector.pvalues_ < 0.1).sum()\n",
        "f_selector = SelectKBest(k=best_k)\n",
        "train_concat_selected = f_selector.fit_transform(train_concat,train_y)\n",
        "train_concat_selected = pd.DataFrame(train_concat_selected,columns=f_selector.get_feature_names_out())\n",
        "\n",
        "f_selector_col_idx = {col:i for i, col in enumerate(train_concat.columns) if col in train_concat_selected.columns}\n",
        "f_selector_scores = [{'col':col, 'score':f_selector.scores_[idx], 'pvalue': f_selector.pvalues_[idx]}  for col, idx in f_selector_col_idx.items()]\n",
        "f_selector_scores = pd.DataFrame(f_selector_scores)\n",
        "f_selector_scores.sort_values(\"score\",ascending=False).head(10)"
      ],
      "metadata": {
        "colab": {
          "base_uri": "https://localhost:8080/",
          "height": 363
        },
        "id": "l7LDEbOF4lR7",
        "outputId": "bd11b07b-c046-4e93-9d06-dd304202e870"
      },
      "execution_count": null,
      "outputs": [
        {
          "output_type": "execute_result",
          "data": {
            "text/plain": [
              "          col       score         pvalue\n",
              "59  subject_G  630.009214  2.227797e-130\n",
              "61  subject_K   97.680711   8.300224e-23\n",
              "60  subject_I   82.956959   1.226185e-19\n",
              "63  subject_M   46.552758   1.008026e-11\n",
              "2        pca3   33.081708   9.411036e-09\n",
              "57  subject_D   30.839719   2.960796e-08\n",
              "3        pca5   30.451125   3.612514e-08\n",
              "1        pca2   25.368775   4.917160e-07\n",
              "56  subject_C   23.617124   1.214631e-06\n",
              "64    phase_2   23.590887   1.231219e-06"
            ],
            "text/html": [
              "\n",
              "  <div id=\"df-2d5aa25f-8c81-4969-b73f-4905452a8d10\">\n",
              "    <div class=\"colab-df-container\">\n",
              "      <div>\n",
              "<style scoped>\n",
              "    .dataframe tbody tr th:only-of-type {\n",
              "        vertical-align: middle;\n",
              "    }\n",
              "\n",
              "    .dataframe tbody tr th {\n",
              "        vertical-align: top;\n",
              "    }\n",
              "\n",
              "    .dataframe thead th {\n",
              "        text-align: right;\n",
              "    }\n",
              "</style>\n",
              "<table border=\"1\" class=\"dataframe\">\n",
              "  <thead>\n",
              "    <tr style=\"text-align: right;\">\n",
              "      <th></th>\n",
              "      <th>col</th>\n",
              "      <th>score</th>\n",
              "      <th>pvalue</th>\n",
              "    </tr>\n",
              "  </thead>\n",
              "  <tbody>\n",
              "    <tr>\n",
              "      <th>59</th>\n",
              "      <td>subject_G</td>\n",
              "      <td>630.009214</td>\n",
              "      <td>2.227797e-130</td>\n",
              "    </tr>\n",
              "    <tr>\n",
              "      <th>61</th>\n",
              "      <td>subject_K</td>\n",
              "      <td>97.680711</td>\n",
              "      <td>8.300224e-23</td>\n",
              "    </tr>\n",
              "    <tr>\n",
              "      <th>60</th>\n",
              "      <td>subject_I</td>\n",
              "      <td>82.956959</td>\n",
              "      <td>1.226185e-19</td>\n",
              "    </tr>\n",
              "    <tr>\n",
              "      <th>63</th>\n",
              "      <td>subject_M</td>\n",
              "      <td>46.552758</td>\n",
              "      <td>1.008026e-11</td>\n",
              "    </tr>\n",
              "    <tr>\n",
              "      <th>2</th>\n",
              "      <td>pca3</td>\n",
              "      <td>33.081708</td>\n",
              "      <td>9.411036e-09</td>\n",
              "    </tr>\n",
              "    <tr>\n",
              "      <th>57</th>\n",
              "      <td>subject_D</td>\n",
              "      <td>30.839719</td>\n",
              "      <td>2.960796e-08</td>\n",
              "    </tr>\n",
              "    <tr>\n",
              "      <th>3</th>\n",
              "      <td>pca5</td>\n",
              "      <td>30.451125</td>\n",
              "      <td>3.612514e-08</td>\n",
              "    </tr>\n",
              "    <tr>\n",
              "      <th>1</th>\n",
              "      <td>pca2</td>\n",
              "      <td>25.368775</td>\n",
              "      <td>4.917160e-07</td>\n",
              "    </tr>\n",
              "    <tr>\n",
              "      <th>56</th>\n",
              "      <td>subject_C</td>\n",
              "      <td>23.617124</td>\n",
              "      <td>1.214631e-06</td>\n",
              "    </tr>\n",
              "    <tr>\n",
              "      <th>64</th>\n",
              "      <td>phase_2</td>\n",
              "      <td>23.590887</td>\n",
              "      <td>1.231219e-06</td>\n",
              "    </tr>\n",
              "  </tbody>\n",
              "</table>\n",
              "</div>\n",
              "      <button class=\"colab-df-convert\" onclick=\"convertToInteractive('df-2d5aa25f-8c81-4969-b73f-4905452a8d10')\"\n",
              "              title=\"Convert this dataframe to an interactive table.\"\n",
              "              style=\"display:none;\">\n",
              "        \n",
              "  <svg xmlns=\"http://www.w3.org/2000/svg\" height=\"24px\"viewBox=\"0 0 24 24\"\n",
              "       width=\"24px\">\n",
              "    <path d=\"M0 0h24v24H0V0z\" fill=\"none\"/>\n",
              "    <path d=\"M18.56 5.44l.94 2.06.94-2.06 2.06-.94-2.06-.94-.94-2.06-.94 2.06-2.06.94zm-11 1L8.5 8.5l.94-2.06 2.06-.94-2.06-.94L8.5 2.5l-.94 2.06-2.06.94zm10 10l.94 2.06.94-2.06 2.06-.94-2.06-.94-.94-2.06-.94 2.06-2.06.94z\"/><path d=\"M17.41 7.96l-1.37-1.37c-.4-.4-.92-.59-1.43-.59-.52 0-1.04.2-1.43.59L10.3 9.45l-7.72 7.72c-.78.78-.78 2.05 0 2.83L4 21.41c.39.39.9.59 1.41.59.51 0 1.02-.2 1.41-.59l7.78-7.78 2.81-2.81c.8-.78.8-2.07 0-2.86zM5.41 20L4 18.59l7.72-7.72 1.47 1.35L5.41 20z\"/>\n",
              "  </svg>\n",
              "      </button>\n",
              "      \n",
              "  <style>\n",
              "    .colab-df-container {\n",
              "      display:flex;\n",
              "      flex-wrap:wrap;\n",
              "      gap: 12px;\n",
              "    }\n",
              "\n",
              "    .colab-df-convert {\n",
              "      background-color: #E8F0FE;\n",
              "      border: none;\n",
              "      border-radius: 50%;\n",
              "      cursor: pointer;\n",
              "      display: none;\n",
              "      fill: #1967D2;\n",
              "      height: 32px;\n",
              "      padding: 0 0 0 0;\n",
              "      width: 32px;\n",
              "    }\n",
              "\n",
              "    .colab-df-convert:hover {\n",
              "      background-color: #E2EBFA;\n",
              "      box-shadow: 0px 1px 2px rgba(60, 64, 67, 0.3), 0px 1px 3px 1px rgba(60, 64, 67, 0.15);\n",
              "      fill: #174EA6;\n",
              "    }\n",
              "\n",
              "    [theme=dark] .colab-df-convert {\n",
              "      background-color: #3B4455;\n",
              "      fill: #D2E3FC;\n",
              "    }\n",
              "\n",
              "    [theme=dark] .colab-df-convert:hover {\n",
              "      background-color: #434B5C;\n",
              "      box-shadow: 0px 1px 3px 1px rgba(0, 0, 0, 0.15);\n",
              "      filter: drop-shadow(0px 1px 2px rgba(0, 0, 0, 0.3));\n",
              "      fill: #FFFFFF;\n",
              "    }\n",
              "  </style>\n",
              "\n",
              "      <script>\n",
              "        const buttonEl =\n",
              "          document.querySelector('#df-2d5aa25f-8c81-4969-b73f-4905452a8d10 button.colab-df-convert');\n",
              "        buttonEl.style.display =\n",
              "          google.colab.kernel.accessAllowed ? 'block' : 'none';\n",
              "\n",
              "        async function convertToInteractive(key) {\n",
              "          const element = document.querySelector('#df-2d5aa25f-8c81-4969-b73f-4905452a8d10');\n",
              "          const dataTable =\n",
              "            await google.colab.kernel.invokeFunction('convertToInteractive',\n",
              "                                                     [key], {});\n",
              "          if (!dataTable) return;\n",
              "\n",
              "          const docLinkHtml = 'Like what you see? Visit the ' +\n",
              "            '<a target=\"_blank\" href=https://colab.research.google.com/notebooks/data_table.ipynb>data table notebook</a>'\n",
              "            + ' to learn more about interactive tables.';\n",
              "          element.innerHTML = '';\n",
              "          dataTable['output_type'] = 'display_data';\n",
              "          await google.colab.output.renderOutput(dataTable, element);\n",
              "          const docLink = document.createElement('div');\n",
              "          docLink.innerHTML = docLinkHtml;\n",
              "          element.appendChild(docLink);\n",
              "        }\n",
              "      </script>\n",
              "    </div>\n",
              "  </div>\n",
              "  "
            ]
          },
          "metadata": {},
          "execution_count": 31
        }
      ]
    },
    {
      "cell_type": "code",
      "source": [
        "f_selector_scores.sort_values(\"score\",ascending=False).tail(10)"
      ],
      "metadata": {
        "colab": {
          "base_uri": "https://localhost:8080/",
          "height": 363
        },
        "id": "-olICJ4h9YZm",
        "outputId": "21a3a7ac-d2fa-44a2-e2c4-0b2f03908391"
      },
      "execution_count": null,
      "outputs": [
        {
          "output_type": "execute_result",
          "data": {
            "text/plain": [
              "       col     score    pvalue\n",
              "43  pca136  3.239714  0.071939\n",
              "7    pca16  3.198478  0.073773\n",
              "33   pca95  3.152045  0.075898\n",
              "52  pca170  3.047471  0.080930\n",
              "28   pca74  3.039145  0.081346\n",
              "25   pca64  2.988802  0.083910\n",
              "21   pca50  2.987215  0.083992\n",
              "13   pca32  2.982329  0.084245\n",
              "48  pca148  2.817587  0.093305\n",
              "44  pca141  2.792378  0.094782"
            ],
            "text/html": [
              "\n",
              "  <div id=\"df-5ec36137-d762-4888-a88c-7411bbe71321\">\n",
              "    <div class=\"colab-df-container\">\n",
              "      <div>\n",
              "<style scoped>\n",
              "    .dataframe tbody tr th:only-of-type {\n",
              "        vertical-align: middle;\n",
              "    }\n",
              "\n",
              "    .dataframe tbody tr th {\n",
              "        vertical-align: top;\n",
              "    }\n",
              "\n",
              "    .dataframe thead th {\n",
              "        text-align: right;\n",
              "    }\n",
              "</style>\n",
              "<table border=\"1\" class=\"dataframe\">\n",
              "  <thead>\n",
              "    <tr style=\"text-align: right;\">\n",
              "      <th></th>\n",
              "      <th>col</th>\n",
              "      <th>score</th>\n",
              "      <th>pvalue</th>\n",
              "    </tr>\n",
              "  </thead>\n",
              "  <tbody>\n",
              "    <tr>\n",
              "      <th>43</th>\n",
              "      <td>pca136</td>\n",
              "      <td>3.239714</td>\n",
              "      <td>0.071939</td>\n",
              "    </tr>\n",
              "    <tr>\n",
              "      <th>7</th>\n",
              "      <td>pca16</td>\n",
              "      <td>3.198478</td>\n",
              "      <td>0.073773</td>\n",
              "    </tr>\n",
              "    <tr>\n",
              "      <th>33</th>\n",
              "      <td>pca95</td>\n",
              "      <td>3.152045</td>\n",
              "      <td>0.075898</td>\n",
              "    </tr>\n",
              "    <tr>\n",
              "      <th>52</th>\n",
              "      <td>pca170</td>\n",
              "      <td>3.047471</td>\n",
              "      <td>0.080930</td>\n",
              "    </tr>\n",
              "    <tr>\n",
              "      <th>28</th>\n",
              "      <td>pca74</td>\n",
              "      <td>3.039145</td>\n",
              "      <td>0.081346</td>\n",
              "    </tr>\n",
              "    <tr>\n",
              "      <th>25</th>\n",
              "      <td>pca64</td>\n",
              "      <td>2.988802</td>\n",
              "      <td>0.083910</td>\n",
              "    </tr>\n",
              "    <tr>\n",
              "      <th>21</th>\n",
              "      <td>pca50</td>\n",
              "      <td>2.987215</td>\n",
              "      <td>0.083992</td>\n",
              "    </tr>\n",
              "    <tr>\n",
              "      <th>13</th>\n",
              "      <td>pca32</td>\n",
              "      <td>2.982329</td>\n",
              "      <td>0.084245</td>\n",
              "    </tr>\n",
              "    <tr>\n",
              "      <th>48</th>\n",
              "      <td>pca148</td>\n",
              "      <td>2.817587</td>\n",
              "      <td>0.093305</td>\n",
              "    </tr>\n",
              "    <tr>\n",
              "      <th>44</th>\n",
              "      <td>pca141</td>\n",
              "      <td>2.792378</td>\n",
              "      <td>0.094782</td>\n",
              "    </tr>\n",
              "  </tbody>\n",
              "</table>\n",
              "</div>\n",
              "      <button class=\"colab-df-convert\" onclick=\"convertToInteractive('df-5ec36137-d762-4888-a88c-7411bbe71321')\"\n",
              "              title=\"Convert this dataframe to an interactive table.\"\n",
              "              style=\"display:none;\">\n",
              "        \n",
              "  <svg xmlns=\"http://www.w3.org/2000/svg\" height=\"24px\"viewBox=\"0 0 24 24\"\n",
              "       width=\"24px\">\n",
              "    <path d=\"M0 0h24v24H0V0z\" fill=\"none\"/>\n",
              "    <path d=\"M18.56 5.44l.94 2.06.94-2.06 2.06-.94-2.06-.94-.94-2.06-.94 2.06-2.06.94zm-11 1L8.5 8.5l.94-2.06 2.06-.94-2.06-.94L8.5 2.5l-.94 2.06-2.06.94zm10 10l.94 2.06.94-2.06 2.06-.94-2.06-.94-.94-2.06-.94 2.06-2.06.94z\"/><path d=\"M17.41 7.96l-1.37-1.37c-.4-.4-.92-.59-1.43-.59-.52 0-1.04.2-1.43.59L10.3 9.45l-7.72 7.72c-.78.78-.78 2.05 0 2.83L4 21.41c.39.39.9.59 1.41.59.51 0 1.02-.2 1.41-.59l7.78-7.78 2.81-2.81c.8-.78.8-2.07 0-2.86zM5.41 20L4 18.59l7.72-7.72 1.47 1.35L5.41 20z\"/>\n",
              "  </svg>\n",
              "      </button>\n",
              "      \n",
              "  <style>\n",
              "    .colab-df-container {\n",
              "      display:flex;\n",
              "      flex-wrap:wrap;\n",
              "      gap: 12px;\n",
              "    }\n",
              "\n",
              "    .colab-df-convert {\n",
              "      background-color: #E8F0FE;\n",
              "      border: none;\n",
              "      border-radius: 50%;\n",
              "      cursor: pointer;\n",
              "      display: none;\n",
              "      fill: #1967D2;\n",
              "      height: 32px;\n",
              "      padding: 0 0 0 0;\n",
              "      width: 32px;\n",
              "    }\n",
              "\n",
              "    .colab-df-convert:hover {\n",
              "      background-color: #E2EBFA;\n",
              "      box-shadow: 0px 1px 2px rgba(60, 64, 67, 0.3), 0px 1px 3px 1px rgba(60, 64, 67, 0.15);\n",
              "      fill: #174EA6;\n",
              "    }\n",
              "\n",
              "    [theme=dark] .colab-df-convert {\n",
              "      background-color: #3B4455;\n",
              "      fill: #D2E3FC;\n",
              "    }\n",
              "\n",
              "    [theme=dark] .colab-df-convert:hover {\n",
              "      background-color: #434B5C;\n",
              "      box-shadow: 0px 1px 3px 1px rgba(0, 0, 0, 0.15);\n",
              "      filter: drop-shadow(0px 1px 2px rgba(0, 0, 0, 0.3));\n",
              "      fill: #FFFFFF;\n",
              "    }\n",
              "  </style>\n",
              "\n",
              "      <script>\n",
              "        const buttonEl =\n",
              "          document.querySelector('#df-5ec36137-d762-4888-a88c-7411bbe71321 button.colab-df-convert');\n",
              "        buttonEl.style.display =\n",
              "          google.colab.kernel.accessAllowed ? 'block' : 'none';\n",
              "\n",
              "        async function convertToInteractive(key) {\n",
              "          const element = document.querySelector('#df-5ec36137-d762-4888-a88c-7411bbe71321');\n",
              "          const dataTable =\n",
              "            await google.colab.kernel.invokeFunction('convertToInteractive',\n",
              "                                                     [key], {});\n",
              "          if (!dataTable) return;\n",
              "\n",
              "          const docLinkHtml = 'Like what you see? Visit the ' +\n",
              "            '<a target=\"_blank\" href=https://colab.research.google.com/notebooks/data_table.ipynb>data table notebook</a>'\n",
              "            + ' to learn more about interactive tables.';\n",
              "          element.innerHTML = '';\n",
              "          dataTable['output_type'] = 'display_data';\n",
              "          await google.colab.output.renderOutput(dataTable, element);\n",
              "          const docLink = document.createElement('div');\n",
              "          docLink.innerHTML = docLinkHtml;\n",
              "          element.appendChild(docLink);\n",
              "        }\n",
              "      </script>\n",
              "    </div>\n",
              "  </div>\n",
              "  "
            ]
          },
          "metadata": {},
          "execution_count": 32
        }
      ]
    },
    {
      "cell_type": "markdown",
      "source": [
        "Now let's do some further EDA to visualize the predictive power for some of the top features identified by SelectKBest. It's worth restating that anything significantly different from the observed overall probability of class `1` in the `output` variable (84.5%) is likely going to be a predictive feature.\n",
        "\n",
        "This is pretty easily observed in the two categorical features. For the numeric features `pca3` and `pca5`, you can see that they are weak predictors because only the small and large values of the features have distinctly different `output` values compared to the baseline of 84.5%. It is our hope that if we combine many of these weakly predictive features, that the model could be strong. "
      ],
      "metadata": {
        "id": "frTQZ2q-_jBJ"
      }
    },
    {
      "cell_type": "code",
      "source": [
        "col = 'subject'\n",
        "fig = plt.figure(figsize=(12,7))\n",
        "sns.pointplot(x=train[col],y=train_y)\n",
        "plt.xticks(rotation=45)\n",
        "plt.title(f\"Power of `{col}` feature for predicting `output`\")\n",
        "plt.show()"
      ],
      "metadata": {
        "colab": {
          "base_uri": "https://localhost:8080/",
          "height": 462
        },
        "id": "lPJw711q_HXE",
        "outputId": "938d2cee-d160-4d0d-ec7b-f38c52254320"
      },
      "execution_count": null,
      "outputs": [
        {
          "output_type": "display_data",
          "data": {
            "text/plain": [
              "<Figure size 864x504 with 1 Axes>"
            ],
            "image/png": "[encoded data removed]"
          },
          "metadata": {
            "needs_background": "light"
          }
        }
      ]
    },
    {
      "cell_type": "code",
      "source": [
        "col = 'phase'\n",
        "fig = plt.figure(figsize=(12,7))\n",
        "sns.pointplot(x=train[col],y=train_y)\n",
        "plt.xticks(rotation=45)\n",
        "plt.title(f\"Power of `{col}` feature for predicting `output`\")\n",
        "plt.show()"
      ],
      "metadata": {
        "colab": {
          "base_uri": "https://localhost:8080/",
          "height": 460
        },
        "id": "PXO7LNQX_b5C",
        "outputId": "ebde8d05-038e-4225-d1ae-fadcab46094d"
      },
      "execution_count": null,
      "outputs": [
        {
          "output_type": "display_data",
          "data": {
            "text/plain": [
              "<Figure size 864x504 with 1 Axes>"
            ],
            "image/png": "[encoded data removed]"
          },
          "metadata": {
            "needs_background": "light"
          }
        }
      ]
    },
    {
      "cell_type": "code",
      "source": [
        "col = 'pca3'\n",
        "feature_bin = pd.qcut(train_concat[col],q=10,duplicates=\"drop\")\n",
        "\n",
        "fig = plt.figure(figsize=(12,7))\n",
        "sns.pointplot(x=feature_bin,y=train_y)\n",
        "plt.xticks(rotation=45)\n",
        "plt.title(f\"Power of {col} feature for predicting output\")\n",
        "plt.show()"
      ],
      "metadata": {
        "colab": {
          "base_uri": "https://localhost:8080/",
          "height": 568
        },
        "id": "gZCTBLuPEFpS",
        "outputId": "e2dd8506-b9c8-451c-f1d5-c59bdc6441ee"
      },
      "execution_count": null,
      "outputs": [
        {
          "output_type": "display_data",
          "data": {
            "text/plain": [
              "<Figure size 864x504 with 1 Axes>"
            ],
            "image/png": "[encoded data removed]"
          },
          "metadata": {
            "needs_background": "light"
          }
        }
      ]
    },
    {
      "cell_type": "code",
      "source": [
        "col = 'pca5'\n",
        "feature_bin = pd.qcut(train_concat[col],q=10,duplicates=\"drop\")\n",
        "\n",
        "fig = plt.figure(figsize=(12,7))\n",
        "sns.pointplot(x=feature_bin,y=train_y)\n",
        "plt.xticks(rotation=45)\n",
        "plt.title(f\"Power of {col} feature for predicting output\")\n",
        "plt.show()"
      ],
      "metadata": {
        "colab": {
          "base_uri": "https://localhost:8080/",
          "height": 520
        },
        "id": "t3-EwxMt-Z7u",
        "outputId": "46fe5c2e-3036-49fa-ce55-879e629551ff"
      },
      "execution_count": null,
      "outputs": [
        {
          "output_type": "display_data",
          "data": {
            "text/plain": [
              "<Figure size 864x504 with 1 Axes>"
            ],
            "image/png": "[encoded data removed]"
          },
          "metadata": {
            "needs_background": "light"
          }
        }
      ]
    },
    {
      "cell_type": "markdown",
      "source": [
        "Now look at the two weakest predictors as determined by SelectKBest: `pca148` and `pca141`. To no surprise, these are even weaker features, but they could be useful when combined with others in a large model."
      ],
      "metadata": {
        "id": "trX_vQgvCDiw"
      }
    },
    {
      "cell_type": "code",
      "source": [
        "col = 'pca148'\n",
        "feature_bin = pd.qcut(train_concat[col],q=10,duplicates=\"drop\")\n",
        "\n",
        "fig = plt.figure(figsize=(12,7))\n",
        "sns.pointplot(x=feature_bin,y=train_y)\n",
        "plt.xticks(rotation=45)\n",
        "plt.title(f\"Power of {col} feature for predicting output\")\n",
        "plt.show()"
      ],
      "metadata": {
        "colab": {
          "base_uri": "https://localhost:8080/",
          "height": 564
        },
        "id": "v4_iKePBCDbL",
        "outputId": "8ffdcbc9-a44c-4489-9e88-df9888f597d8"
      },
      "execution_count": null,
      "outputs": [
        {
          "output_type": "display_data",
          "data": {
            "text/plain": [
              "<Figure size 864x504 with 1 Axes>"
            ],
            "image/png": "[encoded data removed]"
          },
          "metadata": {
            "needs_background": "light"
          }
        }
      ]
    },
    {
      "cell_type": "code",
      "source": [
        "col = 'pca141'\n",
        "feature_bin = pd.qcut(train_concat[col],q=10,duplicates=\"drop\")\n",
        "\n",
        "fig = plt.figure(figsize=(12,7))\n",
        "sns.pointplot(x=feature_bin,y=train_y)\n",
        "plt.xticks(rotation=45)\n",
        "plt.title(f\"Power of {col} feature for predicting output\")\n",
        "plt.show()"
      ],
      "metadata": {
        "colab": {
          "base_uri": "https://localhost:8080/",
          "height": 564
        },
        "id": "5mh6E487CG1i",
        "outputId": "9359f3d1-2109-4e4e-8a1b-a9dc269ff51b"
      },
      "execution_count": null,
      "outputs": [
        {
          "output_type": "display_data",
          "data": {
            "text/plain": [
              "<Figure size 864x504 with 1 Axes>"
            ],
            "image/png": "[encoded data removed]"
          },
          "metadata": {
            "needs_background": "light"
          }
        }
      ]
    },
    {
      "cell_type": "markdown",
      "source": [
        "## Modeling Strategy\n",
        "\n",
        "Let's use this space to brainstorm ideas for what model frameworks we should attempt:\n",
        "\n",
        "Kyle\n",
        "- Random Forest classifier will likely perform best\n",
        "- Logistic regression would be useful as a baseline model\n",
        "\n",
        "Michael\n",
        "- XGboost classifier\n",
        "- Could test impact of limiting features going into model based on the SelectKBest\n",
        "- Could test impact of combining SMOTE and random undersampling (as mentioned [here](https://machinelearningmastery.com/smote-oversampling-for-imbalanced-classification/))\n",
        "- Utilize UMAP to visualize dimensionality reduction"
      ],
      "metadata": {
        "id": "er__4b7ICo82"
      }
    },
    {
      "cell_type": "code",
      "source": [],
      "metadata": {
        "id": "W_teyVXIRx2c"
      },
      "execution_count": null,
      "outputs": []
    }
  ]
}